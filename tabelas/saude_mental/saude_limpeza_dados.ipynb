{
 "cells": [
  {
   "cell_type": "markdown",
   "metadata": {},
   "source": [
    "# Conjunto de dados de detecção de saúde mental\n",
    "\n",
    "<p>Contém respostas de pesquisas de pacientes sobre vários sintomas associados à depressão. As respostas são codificadas de 1 a 6 com base na frequência de cada sintoma. Além disso, o conjunto de dados inclui uma coluna que indica o estado geral de depressão do paciente.</p>\n",
    "<p>Essa análise tem como propósito mostrar como os sintomas da depressão atingem os pacientes e o grau de intensidade cada sintoma.</p>"
   ]
  },
  {
   "cell_type": "code",
   "execution_count": 1,
   "metadata": {},
   "outputs": [
    {
     "data": {
      "text/html": [
       "<div>\n",
       "<style scoped>\n",
       "    .dataframe tbody tr th:only-of-type {\n",
       "        vertical-align: middle;\n",
       "    }\n",
       "\n",
       "    .dataframe tbody tr th {\n",
       "        vertical-align: top;\n",
       "    }\n",
       "\n",
       "    .dataframe thead th {\n",
       "        text-align: right;\n",
       "    }\n",
       "</style>\n",
       "<table border=\"1\" class=\"dataframe\">\n",
       "  <thead>\n",
       "    <tr style=\"text-align: right;\">\n",
       "      <th></th>\n",
       "      <th>Number</th>\n",
       "      <th>Sleep</th>\n",
       "      <th>Appetite</th>\n",
       "      <th>Interest</th>\n",
       "      <th>Fatigue</th>\n",
       "      <th>Worthlessness</th>\n",
       "      <th>Concentration</th>\n",
       "      <th>Agitation</th>\n",
       "      <th>Suicidal Ideation</th>\n",
       "      <th>Sleep Disturbance</th>\n",
       "      <th>Aggression</th>\n",
       "      <th>Panic Attacks</th>\n",
       "      <th>Hopelessness</th>\n",
       "      <th>Restlessness</th>\n",
       "      <th>Low Energy</th>\n",
       "      <th>Depression State</th>\n",
       "    </tr>\n",
       "  </thead>\n",
       "  <tbody>\n",
       "    <tr>\n",
       "      <th>0</th>\n",
       "      <td>1</td>\n",
       "      <td>1.0</td>\n",
       "      <td>1.0</td>\n",
       "      <td>1.0</td>\n",
       "      <td>5.0</td>\n",
       "      <td>5.0</td>\n",
       "      <td>1.0</td>\n",
       "      <td>5.0</td>\n",
       "      <td>5.0</td>\n",
       "      <td>1.0</td>\n",
       "      <td>5.0</td>\n",
       "      <td>5.0</td>\n",
       "      <td>5.0</td>\n",
       "      <td>5.0</td>\n",
       "      <td>5.0</td>\n",
       "      <td>Mild</td>\n",
       "    </tr>\n",
       "    <tr>\n",
       "      <th>1</th>\n",
       "      <td>2</td>\n",
       "      <td>2.0</td>\n",
       "      <td>5.0</td>\n",
       "      <td>5.0</td>\n",
       "      <td>1.0</td>\n",
       "      <td>1.0</td>\n",
       "      <td>5.0</td>\n",
       "      <td>1.0</td>\n",
       "      <td>1.0</td>\n",
       "      <td>5.0</td>\n",
       "      <td>1.0</td>\n",
       "      <td>1.0</td>\n",
       "      <td>1.0</td>\n",
       "      <td>1.0</td>\n",
       "      <td>1.0</td>\n",
       "      <td>Moderate</td>\n",
       "    </tr>\n",
       "    <tr>\n",
       "      <th>2</th>\n",
       "      <td>3</td>\n",
       "      <td>5.0</td>\n",
       "      <td>2.0</td>\n",
       "      <td>2.0</td>\n",
       "      <td>2.0</td>\n",
       "      <td>2.0</td>\n",
       "      <td>2.0</td>\n",
       "      <td>2.0</td>\n",
       "      <td>2.0</td>\n",
       "      <td>2.0</td>\n",
       "      <td>2.0</td>\n",
       "      <td>2.0</td>\n",
       "      <td>2.0</td>\n",
       "      <td>2.0</td>\n",
       "      <td>2.0</td>\n",
       "      <td>Severe</td>\n",
       "    </tr>\n",
       "    <tr>\n",
       "      <th>3</th>\n",
       "      <td>4</td>\n",
       "      <td>1.0</td>\n",
       "      <td>1.0</td>\n",
       "      <td>1.0</td>\n",
       "      <td>5.0</td>\n",
       "      <td>5.0</td>\n",
       "      <td>1.0</td>\n",
       "      <td>5.0</td>\n",
       "      <td>5.0</td>\n",
       "      <td>1.0</td>\n",
       "      <td>5.0</td>\n",
       "      <td>5.0</td>\n",
       "      <td>5.0</td>\n",
       "      <td>5.0</td>\n",
       "      <td>5.0</td>\n",
       "      <td>No depression</td>\n",
       "    </tr>\n",
       "    <tr>\n",
       "      <th>4</th>\n",
       "      <td>5</td>\n",
       "      <td>2.0</td>\n",
       "      <td>5.0</td>\n",
       "      <td>5.0</td>\n",
       "      <td>1.0</td>\n",
       "      <td>1.0</td>\n",
       "      <td>5.0</td>\n",
       "      <td>1.0</td>\n",
       "      <td>1.0</td>\n",
       "      <td>5.0</td>\n",
       "      <td>1.0</td>\n",
       "      <td>1.0</td>\n",
       "      <td>1.0</td>\n",
       "      <td>1.0</td>\n",
       "      <td>1.0</td>\n",
       "      <td>Moderate</td>\n",
       "    </tr>\n",
       "    <tr>\n",
       "      <th>...</th>\n",
       "      <td>...</td>\n",
       "      <td>...</td>\n",
       "      <td>...</td>\n",
       "      <td>...</td>\n",
       "      <td>...</td>\n",
       "      <td>...</td>\n",
       "      <td>...</td>\n",
       "      <td>...</td>\n",
       "      <td>...</td>\n",
       "      <td>...</td>\n",
       "      <td>...</td>\n",
       "      <td>...</td>\n",
       "      <td>...</td>\n",
       "      <td>...</td>\n",
       "      <td>...</td>\n",
       "      <td>...</td>\n",
       "    </tr>\n",
       "    <tr>\n",
       "      <th>808</th>\n",
       "      <td>809</td>\n",
       "      <td>NaN</td>\n",
       "      <td>NaN</td>\n",
       "      <td>NaN</td>\n",
       "      <td>NaN</td>\n",
       "      <td>NaN</td>\n",
       "      <td>NaN</td>\n",
       "      <td>NaN</td>\n",
       "      <td>NaN</td>\n",
       "      <td>NaN</td>\n",
       "      <td>NaN</td>\n",
       "      <td>NaN</td>\n",
       "      <td>NaN</td>\n",
       "      <td>NaN</td>\n",
       "      <td>NaN</td>\n",
       "      <td>NaN</td>\n",
       "    </tr>\n",
       "    <tr>\n",
       "      <th>809</th>\n",
       "      <td>810</td>\n",
       "      <td>NaN</td>\n",
       "      <td>NaN</td>\n",
       "      <td>NaN</td>\n",
       "      <td>NaN</td>\n",
       "      <td>NaN</td>\n",
       "      <td>NaN</td>\n",
       "      <td>NaN</td>\n",
       "      <td>NaN</td>\n",
       "      <td>NaN</td>\n",
       "      <td>NaN</td>\n",
       "      <td>NaN</td>\n",
       "      <td>NaN</td>\n",
       "      <td>NaN</td>\n",
       "      <td>NaN</td>\n",
       "      <td>NaN</td>\n",
       "    </tr>\n",
       "    <tr>\n",
       "      <th>810</th>\n",
       "      <td>811</td>\n",
       "      <td>NaN</td>\n",
       "      <td>NaN</td>\n",
       "      <td>NaN</td>\n",
       "      <td>NaN</td>\n",
       "      <td>NaN</td>\n",
       "      <td>NaN</td>\n",
       "      <td>NaN</td>\n",
       "      <td>NaN</td>\n",
       "      <td>NaN</td>\n",
       "      <td>NaN</td>\n",
       "      <td>NaN</td>\n",
       "      <td>NaN</td>\n",
       "      <td>NaN</td>\n",
       "      <td>NaN</td>\n",
       "      <td>NaN</td>\n",
       "    </tr>\n",
       "    <tr>\n",
       "      <th>811</th>\n",
       "      <td>812</td>\n",
       "      <td>NaN</td>\n",
       "      <td>NaN</td>\n",
       "      <td>NaN</td>\n",
       "      <td>NaN</td>\n",
       "      <td>NaN</td>\n",
       "      <td>NaN</td>\n",
       "      <td>NaN</td>\n",
       "      <td>NaN</td>\n",
       "      <td>NaN</td>\n",
       "      <td>NaN</td>\n",
       "      <td>NaN</td>\n",
       "      <td>NaN</td>\n",
       "      <td>NaN</td>\n",
       "      <td>NaN</td>\n",
       "      <td>NaN</td>\n",
       "    </tr>\n",
       "    <tr>\n",
       "      <th>812</th>\n",
       "      <td>813</td>\n",
       "      <td>NaN</td>\n",
       "      <td>NaN</td>\n",
       "      <td>NaN</td>\n",
       "      <td>NaN</td>\n",
       "      <td>NaN</td>\n",
       "      <td>NaN</td>\n",
       "      <td>NaN</td>\n",
       "      <td>NaN</td>\n",
       "      <td>NaN</td>\n",
       "      <td>NaN</td>\n",
       "      <td>NaN</td>\n",
       "      <td>NaN</td>\n",
       "      <td>NaN</td>\n",
       "      <td>NaN</td>\n",
       "      <td>NaN</td>\n",
       "    </tr>\n",
       "  </tbody>\n",
       "</table>\n",
       "<p>813 rows × 16 columns</p>\n",
       "</div>"
      ],
      "text/plain": [
       "     Number   Sleep  Appetite  Interest  Fatigue  Worthlessness  \\\n",
       "0          1    1.0       1.0       1.0      5.0            5.0   \n",
       "1          2    2.0       5.0       5.0      1.0            1.0   \n",
       "2          3    5.0       2.0       2.0      2.0            2.0   \n",
       "3          4    1.0       1.0       1.0      5.0            5.0   \n",
       "4          5    2.0       5.0       5.0      1.0            1.0   \n",
       "..       ...    ...       ...       ...      ...            ...   \n",
       "808      809    NaN       NaN       NaN      NaN            NaN   \n",
       "809      810    NaN       NaN       NaN      NaN            NaN   \n",
       "810      811    NaN       NaN       NaN      NaN            NaN   \n",
       "811      812    NaN       NaN       NaN      NaN            NaN   \n",
       "812      813    NaN       NaN       NaN      NaN            NaN   \n",
       "\n",
       "     Concentration  Agitation  Suicidal Ideation  Sleep Disturbance  \\\n",
       "0              1.0        5.0                5.0                1.0   \n",
       "1              5.0        1.0                1.0                5.0   \n",
       "2              2.0        2.0                2.0                2.0   \n",
       "3              1.0        5.0                5.0                1.0   \n",
       "4              5.0        1.0                1.0                5.0   \n",
       "..             ...        ...                ...                ...   \n",
       "808            NaN        NaN                NaN                NaN   \n",
       "809            NaN        NaN                NaN                NaN   \n",
       "810            NaN        NaN                NaN                NaN   \n",
       "811            NaN        NaN                NaN                NaN   \n",
       "812            NaN        NaN                NaN                NaN   \n",
       "\n",
       "     Aggression  Panic Attacks  Hopelessness  Restlessness  Low Energy  \\\n",
       "0           5.0            5.0           5.0           5.0         5.0   \n",
       "1           1.0            1.0           1.0           1.0         1.0   \n",
       "2           2.0            2.0           2.0           2.0         2.0   \n",
       "3           5.0            5.0           5.0           5.0         5.0   \n",
       "4           1.0            1.0           1.0           1.0         1.0   \n",
       "..          ...            ...           ...           ...         ...   \n",
       "808         NaN            NaN           NaN           NaN         NaN   \n",
       "809         NaN            NaN           NaN           NaN         NaN   \n",
       "810         NaN            NaN           NaN           NaN         NaN   \n",
       "811         NaN            NaN           NaN           NaN         NaN   \n",
       "812         NaN            NaN           NaN           NaN         NaN   \n",
       "\n",
       "    Depression State  \n",
       "0               Mild  \n",
       "1           Moderate  \n",
       "2             Severe  \n",
       "3      No depression  \n",
       "4           Moderate  \n",
       "..               ...  \n",
       "808              NaN  \n",
       "809              NaN  \n",
       "810              NaN  \n",
       "811              NaN  \n",
       "812              NaN  \n",
       "\n",
       "[813 rows x 16 columns]"
      ]
     },
     "metadata": {},
     "output_type": "display_data"
    },
    {
     "name": "stdout",
     "output_type": "stream",
     "text": [
      "<class 'pandas.core.frame.DataFrame'>\n",
      "RangeIndex: 813 entries, 0 to 812\n",
      "Data columns (total 16 columns):\n",
      " #   Column             Non-Null Count  Dtype  \n",
      "---  ------             --------------  -----  \n",
      " 0   Number             813 non-null    int64  \n",
      " 1   Sleep              540 non-null    float64\n",
      " 2   Appetite           540 non-null    float64\n",
      " 3   Interest           540 non-null    float64\n",
      " 4   Fatigue            540 non-null    float64\n",
      " 5   Worthlessness      540 non-null    float64\n",
      " 6   Concentration      540 non-null    float64\n",
      " 7   Agitation          540 non-null    float64\n",
      " 8   Suicidal Ideation  540 non-null    float64\n",
      " 9   Sleep Disturbance  540 non-null    float64\n",
      " 10  Aggression         540 non-null    float64\n",
      " 11  Panic Attacks      540 non-null    float64\n",
      " 12  Hopelessness       540 non-null    float64\n",
      " 13  Restlessness       540 non-null    float64\n",
      " 14  Low Energy         540 non-null    float64\n",
      " 15  Depression State   540 non-null    object \n",
      "dtypes: float64(14), int64(1), object(1)\n",
      "memory usage: 101.8+ KB\n",
      "None\n"
     ]
    }
   ],
   "source": [
    "# Importação da tabela e exibição da mesma\n",
    "import pandas as pd\n",
    "\n",
    "df = pd.read_csv(\"Saude mental.csv\")\n",
    "display(df)\n",
    "\n",
    "# Verifica se tem valores nulos ou em formatação errada\n",
    "print(df.info())"
   ]
  },
  {
   "cell_type": "code",
   "execution_count": 2,
   "metadata": {},
   "outputs": [
    {
     "data": {
      "text/html": [
       "<div>\n",
       "<style scoped>\n",
       "    .dataframe tbody tr th:only-of-type {\n",
       "        vertical-align: middle;\n",
       "    }\n",
       "\n",
       "    .dataframe tbody tr th {\n",
       "        vertical-align: top;\n",
       "    }\n",
       "\n",
       "    .dataframe thead th {\n",
       "        text-align: right;\n",
       "    }\n",
       "</style>\n",
       "<table border=\"1\" class=\"dataframe\">\n",
       "  <thead>\n",
       "    <tr style=\"text-align: right;\">\n",
       "      <th></th>\n",
       "      <th>Sleep</th>\n",
       "      <th>Appetite</th>\n",
       "      <th>Interest</th>\n",
       "      <th>Fatigue</th>\n",
       "      <th>Worthlessness</th>\n",
       "      <th>Concentration</th>\n",
       "      <th>Agitation</th>\n",
       "      <th>Suicidal Ideation</th>\n",
       "      <th>Sleep Disturbance</th>\n",
       "      <th>Aggression</th>\n",
       "      <th>Panic Attacks</th>\n",
       "      <th>Hopelessness</th>\n",
       "      <th>Restlessness</th>\n",
       "      <th>Low Energy</th>\n",
       "      <th>Depression State</th>\n",
       "    </tr>\n",
       "  </thead>\n",
       "  <tbody>\n",
       "    <tr>\n",
       "      <th>0</th>\n",
       "      <td>1.0</td>\n",
       "      <td>1.0</td>\n",
       "      <td>1.0</td>\n",
       "      <td>5.0</td>\n",
       "      <td>5.0</td>\n",
       "      <td>1.0</td>\n",
       "      <td>5.0</td>\n",
       "      <td>5.0</td>\n",
       "      <td>1.0</td>\n",
       "      <td>5.0</td>\n",
       "      <td>5.0</td>\n",
       "      <td>5.0</td>\n",
       "      <td>5.0</td>\n",
       "      <td>5.0</td>\n",
       "      <td>Mild</td>\n",
       "    </tr>\n",
       "    <tr>\n",
       "      <th>1</th>\n",
       "      <td>2.0</td>\n",
       "      <td>5.0</td>\n",
       "      <td>5.0</td>\n",
       "      <td>1.0</td>\n",
       "      <td>1.0</td>\n",
       "      <td>5.0</td>\n",
       "      <td>1.0</td>\n",
       "      <td>1.0</td>\n",
       "      <td>5.0</td>\n",
       "      <td>1.0</td>\n",
       "      <td>1.0</td>\n",
       "      <td>1.0</td>\n",
       "      <td>1.0</td>\n",
       "      <td>1.0</td>\n",
       "      <td>Moderate</td>\n",
       "    </tr>\n",
       "    <tr>\n",
       "      <th>2</th>\n",
       "      <td>5.0</td>\n",
       "      <td>2.0</td>\n",
       "      <td>2.0</td>\n",
       "      <td>2.0</td>\n",
       "      <td>2.0</td>\n",
       "      <td>2.0</td>\n",
       "      <td>2.0</td>\n",
       "      <td>2.0</td>\n",
       "      <td>2.0</td>\n",
       "      <td>2.0</td>\n",
       "      <td>2.0</td>\n",
       "      <td>2.0</td>\n",
       "      <td>2.0</td>\n",
       "      <td>2.0</td>\n",
       "      <td>Severe</td>\n",
       "    </tr>\n",
       "    <tr>\n",
       "      <th>3</th>\n",
       "      <td>1.0</td>\n",
       "      <td>1.0</td>\n",
       "      <td>1.0</td>\n",
       "      <td>5.0</td>\n",
       "      <td>5.0</td>\n",
       "      <td>1.0</td>\n",
       "      <td>5.0</td>\n",
       "      <td>5.0</td>\n",
       "      <td>1.0</td>\n",
       "      <td>5.0</td>\n",
       "      <td>5.0</td>\n",
       "      <td>5.0</td>\n",
       "      <td>5.0</td>\n",
       "      <td>5.0</td>\n",
       "      <td>No depression</td>\n",
       "    </tr>\n",
       "    <tr>\n",
       "      <th>4</th>\n",
       "      <td>2.0</td>\n",
       "      <td>5.0</td>\n",
       "      <td>5.0</td>\n",
       "      <td>1.0</td>\n",
       "      <td>1.0</td>\n",
       "      <td>5.0</td>\n",
       "      <td>1.0</td>\n",
       "      <td>1.0</td>\n",
       "      <td>5.0</td>\n",
       "      <td>1.0</td>\n",
       "      <td>1.0</td>\n",
       "      <td>1.0</td>\n",
       "      <td>1.0</td>\n",
       "      <td>1.0</td>\n",
       "      <td>Moderate</td>\n",
       "    </tr>\n",
       "    <tr>\n",
       "      <th>...</th>\n",
       "      <td>...</td>\n",
       "      <td>...</td>\n",
       "      <td>...</td>\n",
       "      <td>...</td>\n",
       "      <td>...</td>\n",
       "      <td>...</td>\n",
       "      <td>...</td>\n",
       "      <td>...</td>\n",
       "      <td>...</td>\n",
       "      <td>...</td>\n",
       "      <td>...</td>\n",
       "      <td>...</td>\n",
       "      <td>...</td>\n",
       "      <td>...</td>\n",
       "      <td>...</td>\n",
       "    </tr>\n",
       "    <tr>\n",
       "      <th>535</th>\n",
       "      <td>2.0</td>\n",
       "      <td>5.0</td>\n",
       "      <td>5.0</td>\n",
       "      <td>1.0</td>\n",
       "      <td>1.0</td>\n",
       "      <td>5.0</td>\n",
       "      <td>1.0</td>\n",
       "      <td>1.0</td>\n",
       "      <td>5.0</td>\n",
       "      <td>1.0</td>\n",
       "      <td>1.0</td>\n",
       "      <td>1.0</td>\n",
       "      <td>1.0</td>\n",
       "      <td>5.0</td>\n",
       "      <td>Mild</td>\n",
       "    </tr>\n",
       "    <tr>\n",
       "      <th>536</th>\n",
       "      <td>5.0</td>\n",
       "      <td>2.0</td>\n",
       "      <td>2.0</td>\n",
       "      <td>2.0</td>\n",
       "      <td>2.0</td>\n",
       "      <td>2.0</td>\n",
       "      <td>2.0</td>\n",
       "      <td>2.0</td>\n",
       "      <td>2.0</td>\n",
       "      <td>2.0</td>\n",
       "      <td>2.0</td>\n",
       "      <td>2.0</td>\n",
       "      <td>2.0</td>\n",
       "      <td>1.0</td>\n",
       "      <td>Severe</td>\n",
       "    </tr>\n",
       "    <tr>\n",
       "      <th>537</th>\n",
       "      <td>1.0</td>\n",
       "      <td>1.0</td>\n",
       "      <td>1.0</td>\n",
       "      <td>5.0</td>\n",
       "      <td>5.0</td>\n",
       "      <td>1.0</td>\n",
       "      <td>5.0</td>\n",
       "      <td>5.0</td>\n",
       "      <td>1.0</td>\n",
       "      <td>5.0</td>\n",
       "      <td>5.0</td>\n",
       "      <td>5.0</td>\n",
       "      <td>5.0</td>\n",
       "      <td>2.0</td>\n",
       "      <td>No depression</td>\n",
       "    </tr>\n",
       "    <tr>\n",
       "      <th>538</th>\n",
       "      <td>2.0</td>\n",
       "      <td>5.0</td>\n",
       "      <td>5.0</td>\n",
       "      <td>1.0</td>\n",
       "      <td>1.0</td>\n",
       "      <td>5.0</td>\n",
       "      <td>1.0</td>\n",
       "      <td>1.0</td>\n",
       "      <td>5.0</td>\n",
       "      <td>1.0</td>\n",
       "      <td>1.0</td>\n",
       "      <td>1.0</td>\n",
       "      <td>1.0</td>\n",
       "      <td>1.0</td>\n",
       "      <td>Severe</td>\n",
       "    </tr>\n",
       "    <tr>\n",
       "      <th>539</th>\n",
       "      <td>5.0</td>\n",
       "      <td>2.0</td>\n",
       "      <td>2.0</td>\n",
       "      <td>2.0</td>\n",
       "      <td>2.0</td>\n",
       "      <td>2.0</td>\n",
       "      <td>2.0</td>\n",
       "      <td>2.0</td>\n",
       "      <td>2.0</td>\n",
       "      <td>2.0</td>\n",
       "      <td>2.0</td>\n",
       "      <td>2.0</td>\n",
       "      <td>2.0</td>\n",
       "      <td>2.0</td>\n",
       "      <td>Moderate</td>\n",
       "    </tr>\n",
       "  </tbody>\n",
       "</table>\n",
       "<p>540 rows × 15 columns</p>\n",
       "</div>"
      ],
      "text/plain": [
       "     Sleep  Appetite  Interest  Fatigue  Worthlessness  Concentration  \\\n",
       "0      1.0       1.0       1.0      5.0            5.0            1.0   \n",
       "1      2.0       5.0       5.0      1.0            1.0            5.0   \n",
       "2      5.0       2.0       2.0      2.0            2.0            2.0   \n",
       "3      1.0       1.0       1.0      5.0            5.0            1.0   \n",
       "4      2.0       5.0       5.0      1.0            1.0            5.0   \n",
       "..     ...       ...       ...      ...            ...            ...   \n",
       "535    2.0       5.0       5.0      1.0            1.0            5.0   \n",
       "536    5.0       2.0       2.0      2.0            2.0            2.0   \n",
       "537    1.0       1.0       1.0      5.0            5.0            1.0   \n",
       "538    2.0       5.0       5.0      1.0            1.0            5.0   \n",
       "539    5.0       2.0       2.0      2.0            2.0            2.0   \n",
       "\n",
       "     Agitation  Suicidal Ideation  Sleep Disturbance  Aggression  \\\n",
       "0          5.0                5.0                1.0         5.0   \n",
       "1          1.0                1.0                5.0         1.0   \n",
       "2          2.0                2.0                2.0         2.0   \n",
       "3          5.0                5.0                1.0         5.0   \n",
       "4          1.0                1.0                5.0         1.0   \n",
       "..         ...                ...                ...         ...   \n",
       "535        1.0                1.0                5.0         1.0   \n",
       "536        2.0                2.0                2.0         2.0   \n",
       "537        5.0                5.0                1.0         5.0   \n",
       "538        1.0                1.0                5.0         1.0   \n",
       "539        2.0                2.0                2.0         2.0   \n",
       "\n",
       "     Panic Attacks  Hopelessness  Restlessness  Low Energy Depression State  \n",
       "0              5.0           5.0           5.0         5.0             Mild  \n",
       "1              1.0           1.0           1.0         1.0         Moderate  \n",
       "2              2.0           2.0           2.0         2.0           Severe  \n",
       "3              5.0           5.0           5.0         5.0    No depression  \n",
       "4              1.0           1.0           1.0         1.0         Moderate  \n",
       "..             ...           ...           ...         ...              ...  \n",
       "535            1.0           1.0           1.0         5.0             Mild  \n",
       "536            2.0           2.0           2.0         1.0           Severe  \n",
       "537            5.0           5.0           5.0         2.0    No depression  \n",
       "538            1.0           1.0           1.0         1.0           Severe  \n",
       "539            2.0           2.0           2.0         2.0         Moderate  \n",
       "\n",
       "[540 rows x 15 columns]"
      ]
     },
     "metadata": {},
     "output_type": "display_data"
    }
   ],
   "source": [
    "# Exclui a tabela Number\n",
    "df = df.drop(columns=\"Number \")\n",
    "\n",
    "# Exclui os valores vazios\n",
    "df = df.dropna()\n",
    "display(df)"
   ]
  },
  {
   "cell_type": "code",
   "execution_count": 3,
   "metadata": {},
   "outputs": [
    {
     "name": "stdout",
     "output_type": "stream",
     "text": [
      "Sleep\n",
      "5.0    170\n",
      "1.0    157\n",
      "2.0    148\n",
      "3.0     24\n",
      "4.0     24\n",
      "6.0     17\n",
      "Name: count, dtype: int64\n",
      "\n",
      "Appetite\n",
      "5.0    172\n",
      "1.0    170\n",
      "2.0    148\n",
      "3.0     26\n",
      "4.0     24\n",
      "Name: count, dtype: int64\n",
      "\n",
      "Interest\n",
      "5.0    174\n",
      "1.0    170\n",
      "2.0    148\n",
      "3.0     24\n",
      "4.0     24\n",
      "Name: count, dtype: int64\n",
      "\n",
      "Fatigue\n",
      "5.0    174\n",
      "2.0    154\n",
      "1.0    145\n",
      "4.0     26\n",
      "3.0     24\n",
      "6.0     17\n",
      "Name: count, dtype: int64\n",
      "\n",
      "Worthlessness\n",
      "5.0    176\n",
      "1.0    151\n",
      "2.0    148\n",
      "3.0     24\n",
      "4.0     24\n",
      "6.0     17\n",
      "Name: count, dtype: int64\n",
      "\n",
      "Concentration\n",
      "5.0    172\n",
      "1.0    168\n",
      "2.0    152\n",
      "3.0     24\n",
      "4.0     24\n",
      "Name: count, dtype: int64\n",
      "\n",
      "Agitation\n",
      "5.0    174\n",
      "2.0    158\n",
      "1.0    141\n",
      "3.0     26\n",
      "4.0     24\n",
      "6.0     17\n",
      "Name: count, dtype: int64\n",
      "\n",
      "Suicidal Ideation\n",
      "5.0    176\n",
      "2.0    152\n",
      "1.0    147\n",
      "3.0     24\n",
      "4.0     24\n",
      "6.0     17\n",
      "Name: count, dtype: int64\n",
      "\n",
      "Sleep Disturbance\n",
      "5.0    172\n",
      "2.0    162\n",
      "1.0    156\n",
      "3.0     26\n",
      "4.0     24\n",
      "Name: count, dtype: int64\n",
      "\n",
      "Aggression\n",
      "5.0    176\n",
      "2.0    160\n",
      "1.0    139\n",
      "3.0     24\n",
      "4.0     24\n",
      "6.0     17\n",
      "Name: count, dtype: int64\n",
      "\n",
      "Panic Attacks\n",
      "5.0    174\n",
      "2.0    166\n",
      "1.0    133\n",
      "4.0     26\n",
      "3.0     24\n",
      "6.0     17\n",
      "Name: count, dtype: int64\n",
      "\n",
      "Hopelessness\n",
      "5.0    174\n",
      "2.0    156\n",
      "1.0    143\n",
      "3.0     26\n",
      "4.0     24\n",
      "6.0     17\n",
      "Name: count, dtype: int64\n",
      "\n",
      "Restlessness\n",
      "5.0    176\n",
      "2.0    152\n",
      "1.0    147\n",
      "3.0     24\n",
      "4.0     24\n",
      "6.0     17\n",
      "Name: count, dtype: int64\n",
      "\n",
      "Low Energy\n",
      "5.0    173\n",
      "1.0    152\n",
      "2.0    152\n",
      "3.0     24\n",
      "4.0     24\n",
      "6.0     15\n",
      "Name: count, dtype: int64\n",
      "\n"
     ]
    }
   ],
   "source": [
    "# Retira a coluna Depression State é um object, e não é calculável\n",
    "colunas_sintomas = df.drop(columns=\"Depression State\")\n",
    "\n",
    "# Calcula a frequencia dos resultados\n",
    "frequencia = {}\n",
    "for coluna in colunas_sintomas.columns:\n",
    "    freq = colunas_sintomas[coluna].value_counts()\n",
    "    frequencia[coluna] = freq\n",
    "    print(freq)\n",
    "    print()"
   ]
  },
  {
   "cell_type": "code",
   "execution_count": 4,
   "metadata": {},
   "outputs": [
    {
     "data": {
      "text/plain": [
       "'Sleep: 5.0'"
      ]
     },
     "metadata": {},
     "output_type": "display_data"
    },
    {
     "data": {
      "text/plain": [
       "'Appetite: 5.0'"
      ]
     },
     "metadata": {},
     "output_type": "display_data"
    },
    {
     "data": {
      "text/plain": [
       "'Interest: 5.0'"
      ]
     },
     "metadata": {},
     "output_type": "display_data"
    },
    {
     "data": {
      "text/plain": [
       "'Fatigue: 5.0'"
      ]
     },
     "metadata": {},
     "output_type": "display_data"
    },
    {
     "data": {
      "text/plain": [
       "'Worthlessness: 5.0'"
      ]
     },
     "metadata": {},
     "output_type": "display_data"
    },
    {
     "data": {
      "text/plain": [
       "'Concentration: 5.0'"
      ]
     },
     "metadata": {},
     "output_type": "display_data"
    },
    {
     "data": {
      "text/plain": [
       "'Agitation: 5.0'"
      ]
     },
     "metadata": {},
     "output_type": "display_data"
    },
    {
     "data": {
      "text/plain": [
       "'Suicidal Ideation: 5.0'"
      ]
     },
     "metadata": {},
     "output_type": "display_data"
    },
    {
     "data": {
      "text/plain": [
       "'Sleep Disturbance: 5.0'"
      ]
     },
     "metadata": {},
     "output_type": "display_data"
    },
    {
     "data": {
      "text/plain": [
       "'Aggression: 5.0'"
      ]
     },
     "metadata": {},
     "output_type": "display_data"
    },
    {
     "data": {
      "text/plain": [
       "'Panic Attacks: 5.0'"
      ]
     },
     "metadata": {},
     "output_type": "display_data"
    },
    {
     "data": {
      "text/plain": [
       "'Hopelessness: 5.0'"
      ]
     },
     "metadata": {},
     "output_type": "display_data"
    },
    {
     "data": {
      "text/plain": [
       "'Restlessness: 5.0'"
      ]
     },
     "metadata": {},
     "output_type": "display_data"
    },
    {
     "data": {
      "text/plain": [
       "'Low Energy: 5.0'"
      ]
     },
     "metadata": {},
     "output_type": "display_data"
    },
    {
     "name": "stdout",
     "output_type": "stream",
     "text": [
      "=-==-==-==-==-==-==-==-==-==-==-==-==-==-==-==-==-==-==-==-=\n"
     ]
    },
    {
     "data": {
      "text/plain": [
       "'Sleep: 6.0'"
      ]
     },
     "metadata": {},
     "output_type": "display_data"
    },
    {
     "data": {
      "text/plain": [
       "'Appetite: 4.0'"
      ]
     },
     "metadata": {},
     "output_type": "display_data"
    },
    {
     "data": {
      "text/plain": [
       "'Interest: 3.0'"
      ]
     },
     "metadata": {},
     "output_type": "display_data"
    },
    {
     "data": {
      "text/plain": [
       "'Fatigue: 6.0'"
      ]
     },
     "metadata": {},
     "output_type": "display_data"
    },
    {
     "data": {
      "text/plain": [
       "'Worthlessness: 6.0'"
      ]
     },
     "metadata": {},
     "output_type": "display_data"
    },
    {
     "data": {
      "text/plain": [
       "'Concentration: 3.0'"
      ]
     },
     "metadata": {},
     "output_type": "display_data"
    },
    {
     "data": {
      "text/plain": [
       "'Agitation: 6.0'"
      ]
     },
     "metadata": {},
     "output_type": "display_data"
    },
    {
     "data": {
      "text/plain": [
       "'Suicidal Ideation: 6.0'"
      ]
     },
     "metadata": {},
     "output_type": "display_data"
    },
    {
     "data": {
      "text/plain": [
       "'Sleep Disturbance: 4.0'"
      ]
     },
     "metadata": {},
     "output_type": "display_data"
    },
    {
     "data": {
      "text/plain": [
       "'Aggression: 6.0'"
      ]
     },
     "metadata": {},
     "output_type": "display_data"
    },
    {
     "data": {
      "text/plain": [
       "'Panic Attacks: 6.0'"
      ]
     },
     "metadata": {},
     "output_type": "display_data"
    },
    {
     "data": {
      "text/plain": [
       "'Hopelessness: 6.0'"
      ]
     },
     "metadata": {},
     "output_type": "display_data"
    },
    {
     "data": {
      "text/plain": [
       "'Restlessness: 6.0'"
      ]
     },
     "metadata": {},
     "output_type": "display_data"
    },
    {
     "data": {
      "text/plain": [
       "'Low Energy: 6.0'"
      ]
     },
     "metadata": {},
     "output_type": "display_data"
    }
   ],
   "source": [
    "# Como estão distribuídos os graus de intensidade para cada sintoma:\n",
    "# Qual valor tem maior prevalencia individualmente em cada coluna\n",
    "for coluna, freq in frequencia.items():\n",
    "    valor_mais_frequente = freq.idxmax() #Índice de retorno do elemento máximo.\n",
    "    display(f\"{coluna}: {valor_mais_frequente}\")\n",
    "print(\"=-=\" * 20)\n",
    "\n",
    "# Qual valor tem menor prevalencia individualmente em cada coluna\n",
    "for coluna, freq in frequencia.items():\n",
    "    valor_mais_frequente = freq.idxmin() #Índice de retorno do elemento mínimo.\n",
    "    display(f\"{coluna}: {valor_mais_frequente}\")\n"
   ]
  },
  {
   "cell_type": "code",
   "execution_count": 71,
   "metadata": {},
   "outputs": [
    {
     "data": {
      "image/png": "[encoded data removed]",
      "text/plain": [
       "<Figure size 640x480 with 1 Axes>"
      ]
     },
     "metadata": {},
     "output_type": "display_data"
    }
   ],
   "source": [
    "import matplotlib.pyplot as plt\n",
    "import pandas as pd\n",
    "\n",
    "# Filtrar os dados para obter apenas os pacientes no estado severo\n",
    "estado_severo = df.loc[df['Depression State'] == 'Severe']\n",
    "\n",
    "if not estado_severo.empty:\n",
    "    media_colunas = {}\n",
    "\n",
    "    for coluna in estado_severo.columns:\n",
    "        if estado_severo[coluna].dtype in [int, float]:\n",
    "            # Calcular a média da coluna\n",
    "            media = estado_severo[coluna].mean()\n",
    "\n",
    "            # Converter a média em porcentagem e duas casas decimais\n",
    "            media *= 100\n",
    "            media = round(media, 2)\n",
    "\n",
    "            # Armazena as respostas\n",
    "            media_colunas[coluna] = media\n",
    "\n",
    "    # Gráfico de barras\n",
    "    colunas = list(media_colunas.keys())\n",
    "    medias = list(media_colunas.values())\n",
    "    plt.bar(colunas, medias)\n",
    "\n",
    "    # Adicionar título\n",
    "    plt.title('Média dos Sintomas em Pacientes no Estado Severo de Depressão')\n",
    "    plt.xlabel('Sintomas')\n",
    "    plt.ylabel('Média dos Sintomas')\n",
    "\n",
    "    # Rotacionar o eixo x\n",
    "    plt.xticks(rotation=45)\n",
    "\n",
    "    # Defini a quantidade de valores no eixo y\n",
    "    #plt.yticks(range(1, 7))\n",
    "\n",
    "    plt.show()"
   ]
  }
 ],
 "metadata": {
  "kernelspec": {
   "display_name": "Python 3",
   "language": "python",
   "name": "python3"
  },
  "language_info": {
   "codemirror_mode": {
    "name": "ipython",
    "version": 3
   },
   "file_extension": ".py",
   "mimetype": "text/x-python",
   "name": "python",
   "nbconvert_exporter": "python",
   "pygments_lexer": "ipython3",
   "version": "3.11.8"
  }
 },
 "nbformat": 4,
 "nbformat_minor": 2
}
